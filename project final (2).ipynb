{
 "cells": [
  {
   "cell_type": "code",
   "execution_count": 1,
   "metadata": {
    "_cell_guid": "b1076dfc-b9ad-4769-8c92-a6c4dae69d19",
    "_uuid": "8f2839f25d086af736a60e9eeb907d3b93b6e0e5"
   },
   "outputs": [
    {
     "name": "stdout",
     "output_type": "stream",
     "text": [
      "libraries loaded successfully\n"
     ]
    }
   ],
   "source": [
    "#import libraries\n",
    "import numpy as np\n",
    "import pandas as pd\n",
    "import matplotlib.pyplot as plt\n",
    "import seaborn as sns\n",
    "\n",
    "from sklearn.impute import SimpleImputer\n",
    "\n",
    "import warnings\n",
    "warnings.filterwarnings('ignore')\n",
    "%matplotlib inline\n",
    "\n",
    "print(\"libraries loaded successfully\")"
   ]
  },
  {
   "cell_type": "code",
   "execution_count": 2,
   "metadata": {
    "_cell_guid": "79c7e3d0-c299-4dcb-8224-4455121ee9b0",
    "_uuid": "d629ff2d2480ee46fbb7e2d37f6b5fab8052498a"
   },
   "outputs": [
    {
     "name": "stdout",
     "output_type": "stream",
     "text": [
      "Data loaded successfully\n"
     ]
    }
   ],
   "source": [
    "data_train = pd.read_csv(\"E:/train.csv\")\n",
    "print(\"Data loaded successfully\")"
   ]
  },
  {
   "cell_type": "markdown",
   "metadata": {},
   "source": [
    "# 1. Data exploration\n",
    "Now let's take fast look at our data 👇"
   ]
  },
  {
   "cell_type": "code",
   "execution_count": 3,
   "metadata": {},
   "outputs": [
    {
     "name": "stdout",
     "output_type": "stream",
     "text": [
      "data shape :  (550068, 12)\n"
     ]
    },
    {
     "data": {
      "text/html": [
       "<div>\n",
       "<style scoped>\n",
       "    .dataframe tbody tr th:only-of-type {\n",
       "        vertical-align: middle;\n",
       "    }\n",
       "\n",
       "    .dataframe tbody tr th {\n",
       "        vertical-align: top;\n",
       "    }\n",
       "\n",
       "    .dataframe thead th {\n",
       "        text-align: right;\n",
       "    }\n",
       "</style>\n",
       "<table border=\"1\" class=\"dataframe\">\n",
       "  <thead>\n",
       "    <tr style=\"text-align: right;\">\n",
       "      <th></th>\n",
       "      <th>User_ID</th>\n",
       "      <th>Occupation</th>\n",
       "      <th>Marital_Status</th>\n",
       "      <th>Product_Category_1</th>\n",
       "      <th>Product_Category_2</th>\n",
       "      <th>Product_Category_3</th>\n",
       "      <th>Purchase</th>\n",
       "    </tr>\n",
       "  </thead>\n",
       "  <tbody>\n",
       "    <tr>\n",
       "      <th>count</th>\n",
       "      <td>5.500680e+05</td>\n",
       "      <td>550068.000000</td>\n",
       "      <td>550068.000000</td>\n",
       "      <td>550068.000000</td>\n",
       "      <td>376430.000000</td>\n",
       "      <td>166821.000000</td>\n",
       "      <td>550068.000000</td>\n",
       "    </tr>\n",
       "    <tr>\n",
       "      <th>mean</th>\n",
       "      <td>1.003029e+06</td>\n",
       "      <td>8.076707</td>\n",
       "      <td>0.409653</td>\n",
       "      <td>5.404270</td>\n",
       "      <td>9.842329</td>\n",
       "      <td>12.668243</td>\n",
       "      <td>9263.968713</td>\n",
       "    </tr>\n",
       "    <tr>\n",
       "      <th>std</th>\n",
       "      <td>1.727592e+03</td>\n",
       "      <td>6.522660</td>\n",
       "      <td>0.491770</td>\n",
       "      <td>3.936211</td>\n",
       "      <td>5.086590</td>\n",
       "      <td>4.125338</td>\n",
       "      <td>5023.065394</td>\n",
       "    </tr>\n",
       "    <tr>\n",
       "      <th>min</th>\n",
       "      <td>1.000001e+06</td>\n",
       "      <td>0.000000</td>\n",
       "      <td>0.000000</td>\n",
       "      <td>1.000000</td>\n",
       "      <td>2.000000</td>\n",
       "      <td>3.000000</td>\n",
       "      <td>12.000000</td>\n",
       "    </tr>\n",
       "    <tr>\n",
       "      <th>25%</th>\n",
       "      <td>1.001516e+06</td>\n",
       "      <td>2.000000</td>\n",
       "      <td>0.000000</td>\n",
       "      <td>1.000000</td>\n",
       "      <td>5.000000</td>\n",
       "      <td>9.000000</td>\n",
       "      <td>5823.000000</td>\n",
       "    </tr>\n",
       "    <tr>\n",
       "      <th>50%</th>\n",
       "      <td>1.003077e+06</td>\n",
       "      <td>7.000000</td>\n",
       "      <td>0.000000</td>\n",
       "      <td>5.000000</td>\n",
       "      <td>9.000000</td>\n",
       "      <td>14.000000</td>\n",
       "      <td>8047.000000</td>\n",
       "    </tr>\n",
       "    <tr>\n",
       "      <th>75%</th>\n",
       "      <td>1.004478e+06</td>\n",
       "      <td>14.000000</td>\n",
       "      <td>1.000000</td>\n",
       "      <td>8.000000</td>\n",
       "      <td>15.000000</td>\n",
       "      <td>16.000000</td>\n",
       "      <td>12054.000000</td>\n",
       "    </tr>\n",
       "    <tr>\n",
       "      <th>max</th>\n",
       "      <td>1.006040e+06</td>\n",
       "      <td>20.000000</td>\n",
       "      <td>1.000000</td>\n",
       "      <td>20.000000</td>\n",
       "      <td>18.000000</td>\n",
       "      <td>18.000000</td>\n",
       "      <td>23961.000000</td>\n",
       "    </tr>\n",
       "  </tbody>\n",
       "</table>\n",
       "</div>"
      ],
      "text/plain": [
       "            User_ID     Occupation  Marital_Status  Product_Category_1  \\\n",
       "count  5.500680e+05  550068.000000   550068.000000       550068.000000   \n",
       "mean   1.003029e+06       8.076707        0.409653            5.404270   \n",
       "std    1.727592e+03       6.522660        0.491770            3.936211   \n",
       "min    1.000001e+06       0.000000        0.000000            1.000000   \n",
       "25%    1.001516e+06       2.000000        0.000000            1.000000   \n",
       "50%    1.003077e+06       7.000000        0.000000            5.000000   \n",
       "75%    1.004478e+06      14.000000        1.000000            8.000000   \n",
       "max    1.006040e+06      20.000000        1.000000           20.000000   \n",
       "\n",
       "       Product_Category_2  Product_Category_3       Purchase  \n",
       "count       376430.000000       166821.000000  550068.000000  \n",
       "mean             9.842329           12.668243    9263.968713  \n",
       "std              5.086590            4.125338    5023.065394  \n",
       "min              2.000000            3.000000      12.000000  \n",
       "25%              5.000000            9.000000    5823.000000  \n",
       "50%              9.000000           14.000000    8047.000000  \n",
       "75%             15.000000           16.000000   12054.000000  \n",
       "max             18.000000           18.000000   23961.000000  "
      ]
     },
     "execution_count": 3,
     "metadata": {},
     "output_type": "execute_result"
    }
   ],
   "source": [
    "#explore data\n",
    "print(\"data shape : \",data_train.shape)\n",
    "data_train.describe()"
   ]
  },
  {
   "cell_type": "code",
   "execution_count": 4,
   "metadata": {},
   "outputs": [
    {
     "name": "stdout",
     "output_type": "stream",
     "text": [
      "Data columns\n",
      "--------------------------------------------\n",
      "                             0\n",
      "0                      User_ID\n",
      "1                   Product_ID\n",
      "2                       Gender\n",
      "3                          Age\n",
      "4                   Occupation\n",
      "5                City_Category\n",
      "6   Stay_In_Current_City_Years\n",
      "7               Marital_Status\n",
      "8           Product_Category_1\n",
      "9           Product_Category_2\n",
      "10          Product_Category_3\n",
      "11                    Purchase\n",
      "--------------------------------------------\n"
     ]
    }
   ],
   "source": [
    "print(\"Data columns\")\n",
    "print(\"--------------------------------------------\")\n",
    "print(pd.DataFrame(data_train.columns))\n",
    "print(\"--------------------------------------------\")"
   ]
  },
  {
   "cell_type": "markdown",
   "metadata": {},
   "source": [
    "As we see in above ☝ output some columns not useful for our analysis like **User_ID** and **Product_ID** columns. So we will drop them. "
   ]
  },
  {
   "cell_type": "code",
   "execution_count": 5,
   "metadata": {},
   "outputs": [
    {
     "name": "stdout",
     "output_type": "stream",
     "text": [
      "User_ID and Product_ID columns droped successfully\n"
     ]
    }
   ],
   "source": [
    "data_train = data_train.drop(['User_ID','Product_ID'], axis=1)\n",
    "print(\"User_ID and Product_ID columns droped successfully\")"
   ]
  },
  {
   "cell_type": "markdown",
   "metadata": {},
   "source": [
    "# 2. Missing data \n",
    "Now let's deal with missing data 👇"
   ]
  },
  {
   "cell_type": "code",
   "execution_count": 6,
   "metadata": {},
   "outputs": [
    {
     "data": {
      "text/html": [
       "<div>\n",
       "<style scoped>\n",
       "    .dataframe tbody tr th:only-of-type {\n",
       "        vertical-align: middle;\n",
       "    }\n",
       "\n",
       "    .dataframe tbody tr th {\n",
       "        vertical-align: top;\n",
       "    }\n",
       "\n",
       "    .dataframe thead th {\n",
       "        text-align: right;\n",
       "    }\n",
       "</style>\n",
       "<table border=\"1\" class=\"dataframe\">\n",
       "  <thead>\n",
       "    <tr style=\"text-align: right;\">\n",
       "      <th></th>\n",
       "      <th>Total</th>\n",
       "      <th>Percent</th>\n",
       "    </tr>\n",
       "  </thead>\n",
       "  <tbody>\n",
       "    <tr>\n",
       "      <th>Product_Category_3</th>\n",
       "      <td>383247</td>\n",
       "      <td>0.696727</td>\n",
       "    </tr>\n",
       "    <tr>\n",
       "      <th>Product_Category_2</th>\n",
       "      <td>173638</td>\n",
       "      <td>0.315666</td>\n",
       "    </tr>\n",
       "    <tr>\n",
       "      <th>Purchase</th>\n",
       "      <td>0</td>\n",
       "      <td>0.000000</td>\n",
       "    </tr>\n",
       "    <tr>\n",
       "      <th>Product_Category_1</th>\n",
       "      <td>0</td>\n",
       "      <td>0.000000</td>\n",
       "    </tr>\n",
       "    <tr>\n",
       "      <th>Marital_Status</th>\n",
       "      <td>0</td>\n",
       "      <td>0.000000</td>\n",
       "    </tr>\n",
       "    <tr>\n",
       "      <th>Stay_In_Current_City_Years</th>\n",
       "      <td>0</td>\n",
       "      <td>0.000000</td>\n",
       "    </tr>\n",
       "    <tr>\n",
       "      <th>City_Category</th>\n",
       "      <td>0</td>\n",
       "      <td>0.000000</td>\n",
       "    </tr>\n",
       "    <tr>\n",
       "      <th>Occupation</th>\n",
       "      <td>0</td>\n",
       "      <td>0.000000</td>\n",
       "    </tr>\n",
       "    <tr>\n",
       "      <th>Age</th>\n",
       "      <td>0</td>\n",
       "      <td>0.000000</td>\n",
       "    </tr>\n",
       "    <tr>\n",
       "      <th>Gender</th>\n",
       "      <td>0</td>\n",
       "      <td>0.000000</td>\n",
       "    </tr>\n",
       "  </tbody>\n",
       "</table>\n",
       "</div>"
      ],
      "text/plain": [
       "                             Total   Percent\n",
       "Product_Category_3          383247  0.696727\n",
       "Product_Category_2          173638  0.315666\n",
       "Purchase                         0  0.000000\n",
       "Product_Category_1               0  0.000000\n",
       "Marital_Status                   0  0.000000\n",
       "Stay_In_Current_City_Years       0  0.000000\n",
       "City_Category                    0  0.000000\n",
       "Occupation                       0  0.000000\n",
       "Age                              0  0.000000\n",
       "Gender                           0  0.000000"
      ]
     },
     "execution_count": 6,
     "metadata": {},
     "output_type": "execute_result"
    }
   ],
   "source": [
    "#get total count of data including missing data\n",
    "total = data_train.isnull().sum().sort_values(ascending=False)\n",
    "\n",
    "#get percent of missing data relevant to all data\n",
    "percent = (data_train.isnull().sum()/data_train.isnull().count()).sort_values(ascending=False)\n",
    "\n",
    "missing_data = pd.concat([total, percent], axis=1, keys=['Total', 'Percent'])\n",
    "missing_data.head(10)"
   ]
  },
  {
   "cell_type": "markdown",
   "metadata": {},
   "source": [
    "### How to Handle Missing Data ? 🙄\n",
    "One of the most common problems I have faced in Data Cleaning/Exploratory Analysis is handling the missing values.<br>\n",
    "This is a picture that give us a guide to deal with missingg data 👇 <br>\n",
    "<img src='https://miro.medium.com/max/1528/1*_RA3mCS30Pr0vUxbp25Yxw.png' width=\"550px\" style='float:left;'>\n",
    "<div style='clear:both'></div>\n",
    "<br>\n",
    "As we see in above picture there are many ways to deal with Missing Data. In this **Kernel** i will use two of them on at each branch.<br><br>\n",
    "In **Deletion** I will use **Deleting Columns** technique.<br>\n",
    "\n",
    "Sometimes we can drop variables if the data is missing for more than 60% observations because these variables are useless.\n",
    "\n",
    "In **Imputation** because our problem is a general problem I will use **simpelImputer** from **SKlearn** library<br>\n",
    "\n",
    "I will Delete the following Column **Product_Category_3** because missing data in this columns more than **60%** observations.<br>\n",
    "\n",
    "And impute **Product_Category_2** column because missing data in this columns less than **60%** observations.\n"
   ]
  },
  {
   "cell_type": "code",
   "execution_count": 7,
   "metadata": {},
   "outputs": [
    {
     "name": "stdout",
     "output_type": "stream",
     "text": [
      "Product_Category_3 column droped successfully\n"
     ]
    }
   ],
   "source": [
    "data_train = data_train.drop('Product_Category_3', axis=1)\n",
    "print(\"Product_Category_3 column droped successfully\")"
   ]
  },
  {
   "cell_type": "code",
   "execution_count": 8,
   "metadata": {},
   "outputs": [
    {
     "name": "stdout",
     "output_type": "stream",
     "text": [
      "Product_Category_2 column imputed successfully\n"
     ]
    }
   ],
   "source": [
    "imputer = SimpleImputer(missing_values=np.nan, strategy='mean')\n",
    "imputer = imputer.fit(pd.DataFrame(data_train['Product_Category_2']))\n",
    "data_train['Product_Category_2'] = imputer.transform(pd.DataFrame(data_train['Product_Category_2']))\n",
    "data_train['Product_Category_2'] = np.round(data_train['Product_Category_2'])\n",
    "\n",
    "print(\"Product_Category_2 column imputed successfully\")"
   ]
  },
  {
   "cell_type": "markdown",
   "metadata": {},
   "source": [
    "**Moment of truth** 😧<br>\n",
    "Now let's know if our data contain any missing value"
   ]
  },
  {
   "cell_type": "code",
   "execution_count": 9,
   "metadata": {},
   "outputs": [
    {
     "name": "stdout",
     "output_type": "stream",
     "text": [
      "Number of missing values =  0\n"
     ]
    }
   ],
   "source": [
    "#print max count number of null values\n",
    "print('Number of missing values = ',data_train.isnull().sum().max())"
   ]
  },
  {
   "cell_type": "markdown",
   "metadata": {},
   "source": [
    "Now let's get background about our cleaning data 💪 data types 😊"
   ]
  },
  {
   "cell_type": "code",
   "execution_count": 10,
   "metadata": {},
   "outputs": [
    {
     "data": {
      "text/plain": [
       "Gender                         object\n",
       "Age                            object\n",
       "Occupation                      int64\n",
       "City_Category                  object\n",
       "Stay_In_Current_City_Years     object\n",
       "Marital_Status                  int64\n",
       "Product_Category_1              int64\n",
       "Product_Category_2            float64\n",
       "Purchase                        int64\n",
       "dtype: object"
      ]
     },
     "execution_count": 10,
     "metadata": {},
     "output_type": "execute_result"
    }
   ],
   "source": [
    "data_train.dtypes"
   ]
  },
  {
   "cell_type": "markdown",
   "metadata": {},
   "source": [
    "# 3. Exploratory Data Analysis\n",
    "Now we will get each column from our columns and make our insights process on it. let's start with **Gender** column 👇.\n",
    "## Gender 👨👩\n",
    "\n",
    "**Question 1 :** Are females buying higher value purchases than males ? \n",
    "\n",
    "### Exploratory Data Analysis (Numerically) 💰"
   ]
  },
  {
   "cell_type": "code",
   "execution_count": 11,
   "metadata": {},
   "outputs": [
    {
     "name": "stdout",
     "output_type": "stream",
     "text": [
      "Purchase mean for male purchasers =  9437.526040472265\n",
      "Purchase mean for femal purchasers =  8734.565765155476\n"
     ]
    }
   ],
   "source": [
    "malesPurchaserData = data_train.loc[data_train['Gender'] == 'M']\n",
    "malesPurchaseMean = np.mean(malesPurchaserData['Purchase'])\n",
    "print(\"Purchase mean for male purchasers = \",malesPurchaseMean)\n",
    "\n",
    "femalsPurchaserData = data_train.loc[data_train['Gender'] == 'F']\n",
    "femalsPurchaseMean = np.mean(femalsPurchaserData['Purchase'])\n",
    "print(\"Purchase mean for femal purchasers = \",femalsPurchaseMean)"
   ]
  },
  {
   "cell_type": "markdown",
   "metadata": {},
   "source": [
    "### Exploratory Data Analysis (Graphically) 📈"
   ]
  },
  {
   "cell_type": "code",
   "execution_count": 12,
   "metadata": {},
   "outputs": [
    {
     "data": {
      "image/png": "[encoded data removed]",
      "text/plain": [
       "<Figure size 432x288 with 1 Axes>"
      ]
     },
     "metadata": {
      "needs_background": "light"
     },
     "output_type": "display_data"
    }
   ],
   "source": [
    "labels=['males','femals']\n",
    "values = [malesPurchaseMean,femalsPurchaseMean]\n",
    "\n",
    "plt.bar(labels,values, width=.9, facecolor='b', edgecolor='g', alpha=.5)\n",
    "plt.text(-0.4,10800,'Average purchase in black friday based on gender')\n",
    "         \n",
    "plt.show()"
   ]
  },
  {
   "cell_type": "markdown",
   "metadata": {},
   "source": [
    "**Answer :** No, males buying higher value purchases than females ? But the difference not large.\n",
    "<hr>\n",
    "\n",
    "**Question 2 :** Are males buyers more than females buyers ?\n",
    "\n",
    "### Exploratory Data Analysis (Numerically) 💰"
   ]
  },
  {
   "cell_type": "code",
   "execution_count": 13,
   "metadata": {},
   "outputs": [
    {
     "name": "stdout",
     "output_type": "stream",
     "text": [
      "Number of males purchaser =  414259\n",
      "Number of femals purchaser =  135809\n"
     ]
    }
   ],
   "source": [
    "print('Number of males purchaser = ',malesPurchaserData.shape[0])\n",
    "print('Number of femals purchaser = ',femalsPurchaserData.shape[0])"
   ]
  },
  {
   "cell_type": "markdown",
   "metadata": {},
   "source": [
    "### Exploratory Data Analysis (Graphically) 📈"
   ]
  },
  {
   "cell_type": "code",
   "execution_count": 14,
   "metadata": {},
   "outputs": [
    {
     "data": {
      "image/png": "[encoded data removed]",
      "text/plain": [
       "<Figure size 432x288 with 1 Axes>"
      ]
     },
     "metadata": {},
     "output_type": "display_data"
    }
   ],
   "source": [
    "genderCountData = [malesPurchaserData.shape[0],femalsPurchaserData.shape[0]]\n",
    "labels=['Males','Femals']\n",
    "plt.axis('equal')\n",
    "\n",
    "plt.pie(genderCountData, labels=labels,\n",
    "              explode=[0.1,0],\n",
    "              autopct='%1.1f%%',\n",
    "              shadow=True,\n",
    "              startangle=0,\n",
    "              labeldistance=1.1,\n",
    "              pctdistance=.6)\n",
    "\n",
    "plt.legend(labels)\n",
    "plt.title('Purchaser number in black friday based on gender')\n",
    "plt.show()"
   ]
  },
  {
   "cell_type": "markdown",
   "metadata": {},
   "source": [
    "**Answer :** Yes males buyers more than females buyers. Significantly.<br><br>\n",
    "**Decision :** We must take care of males than females in the next marketing campaigns. where the ratio is 75 to 25 percent respectively.<hr>\n",
    "Now let's deal with **Occupation** column 👇.\n",
    "## Occupation 💼\n",
    "Occupation column is a numerical column has unique values from 0 to 20. I don't know the meaning of these values, But let's show it 😊."
   ]
  },
  {
   "cell_type": "code",
   "execution_count": 15,
   "metadata": {},
   "outputs": [
    {
     "data": {
      "text/plain": [
       "[0, 1, 2, 3, 4, 5, 6, 7, 8, 9, 10, 11, 12, 13, 14, 15, 16, 17, 18, 19, 20]"
      ]
     },
     "execution_count": 15,
     "metadata": {},
     "output_type": "execute_result"
    }
   ],
   "source": [
    "list(data_train['Occupation'].sort_values().unique())"
   ]
  },
  {
   "cell_type": "markdown",
   "metadata": {},
   "source": [
    "**Question 3 :** Are purchase value clear vary based on occupation value ?\n",
    "### Exploratory Data Analysis (Numerically) 💰"
   ]
  },
  {
   "cell_type": "code",
   "execution_count": 16,
   "metadata": {},
   "outputs": [
    {
     "name": "stdout",
     "output_type": "stream",
     "text": [
      "When occupation =  0  mean purchase value =  9124.428587839973\n",
      "------------------------------------------------------------\n",
      "When occupation =  1  mean purchase value =  8953.193269514612\n",
      "------------------------------------------------------------\n",
      "When occupation =  2  mean purchase value =  8952.481683466225\n",
      "------------------------------------------------------------\n",
      "When occupation =  3  mean purchase value =  9178.593087818697\n",
      "------------------------------------------------------------\n",
      "When occupation =  4  mean purchase value =  9213.980251147868\n",
      "------------------------------------------------------------\n",
      "When occupation =  5  mean purchase value =  9333.149297856615\n",
      "------------------------------------------------------------\n",
      "When occupation =  6  mean purchase value =  9256.535691476296\n",
      "------------------------------------------------------------\n",
      "When occupation =  7  mean purchase value =  9425.728222819745\n",
      "------------------------------------------------------------\n",
      "When occupation =  8  mean purchase value =  9532.592496765847\n",
      "------------------------------------------------------------\n",
      "When occupation =  9  mean purchase value =  8637.74376092831\n",
      "------------------------------------------------------------\n",
      "When occupation =  10  mean purchase value =  8959.355375096675\n",
      "------------------------------------------------------------\n",
      "When occupation =  11  mean purchase value =  9213.84584843777\n",
      "------------------------------------------------------------\n",
      "When occupation =  12  mean purchase value =  9796.640238622149\n",
      "------------------------------------------------------------\n",
      "When occupation =  13  mean purchase value =  9306.351061076604\n",
      "------------------------------------------------------------\n",
      "When occupation =  14  mean purchase value =  9500.702771979933\n",
      "------------------------------------------------------------\n",
      "When occupation =  15  mean purchase value =  9778.891163173037\n",
      "------------------------------------------------------------\n",
      "When occupation =  16  mean purchase value =  9394.46434905995\n",
      "------------------------------------------------------------\n",
      "When occupation =  17  mean purchase value =  9821.478235896411\n",
      "------------------------------------------------------------\n",
      "When occupation =  18  mean purchase value =  9169.655844155845\n",
      "------------------------------------------------------------\n",
      "When occupation =  19  mean purchase value =  8710.62723082378\n",
      "------------------------------------------------------------\n",
      "When occupation =  20  mean purchase value =  8836.49490495203\n",
      "------------------------------------------------------------\n"
     ]
    }
   ],
   "source": [
    "labels = []\n",
    "values = []\n",
    "\n",
    "for uniqueOccupationValue in data_train['Occupation'].sort_values().unique():\n",
    "    OccPurchaserData = data_train.loc[data_train['Occupation'] == uniqueOccupationValue]\n",
    "    OccPurchaserMean = np.mean(OccPurchaserData['Purchase'])\n",
    "    labels.append(uniqueOccupationValue)\n",
    "    values.append(OccPurchaserMean)\n",
    "    \n",
    "    print(\"When occupation = \",uniqueOccupationValue,\" mean purchase value = \",OccPurchaserMean)\n",
    "    print(\"------------------------------------------------------------\")\n"
   ]
  },
  {
   "cell_type": "markdown",
   "metadata": {},
   "source": [
    "### Exploratory Data Analysis (Graphically) 📈"
   ]
  },
  {
   "cell_type": "code",
   "execution_count": 17,
   "metadata": {},
   "outputs": [
    {
     "data": {
      "image/png": "[encoded data removed]",
      "text/plain": [
       "<Figure size 432x288 with 1 Axes>"
      ]
     },
     "metadata": {
      "needs_background": "light"
     },
     "output_type": "display_data"
    }
   ],
   "source": [
    "plt.bar(labels,values, width=.9, facecolor='b', edgecolor='w', alpha=.5)\n",
    "plt.text(-1,10800,'Average purchase in black friday based on Occupation')\n",
    "         \n",
    "plt.show()"
   ]
  },
  {
   "cell_type": "markdown",
   "metadata": {},
   "source": [
    "**Answer :** Purchase value don't effect with occupation value. Because mean values of purchase at each occupation value nearest to each other.\n",
    "\n",
    "<hr>\n",
    "Now let's deal with **City_Category** column 👇.\n",
    "## City_Category 🏡\n",
    "City_Category column is categorical column has unique values **A, B,** and **C**. I don't know the meaning of these values, But I guess that category **A** best than category **B** and category **B** best than category **C** according to city level. But let's show it 😊."
   ]
  },
  {
   "cell_type": "code",
   "execution_count": 18,
   "metadata": {},
   "outputs": [
    {
     "data": {
      "text/plain": [
       "['A', 'B', 'C']"
      ]
     },
     "execution_count": 18,
     "metadata": {},
     "output_type": "execute_result"
    }
   ],
   "source": [
    "list(data_train['City_Category'].sort_values().unique())"
   ]
  },
  {
   "cell_type": "markdown",
   "metadata": {},
   "source": [
    "**Question 4 :** Are purchase value clear vary based on City Category ?\n",
    "### Exploratory Data Analysis (Numerically) 💰"
   ]
  },
  {
   "cell_type": "code",
   "execution_count": 19,
   "metadata": {},
   "outputs": [
    {
     "name": "stdout",
     "output_type": "stream",
     "text": [
      "When City_Category =  A  mean Purchase value =  8911.939216084484\n",
      "------------------------------------------------------------------------------------------\n",
      "When City_Category =  B  mean Purchase value =  9151.300562781986\n",
      "------------------------------------------------------------------------------------------\n",
      "When City_Category =  C  mean Purchase value =  9719.92099313568\n",
      "------------------------------------------------------------------------------------------\n"
     ]
    }
   ],
   "source": [
    "labels = []\n",
    "values = []\n",
    "cityCatCount = []\n",
    "\n",
    "for uniqueCityCategoryValue in data_train['City_Category'].sort_values().unique():\n",
    "    CityCatPurchaserData = data_train.loc[data_train['City_Category'] == uniqueCityCategoryValue]\n",
    "    CityCatPurchaserMean = np.mean(CityCatPurchaserData['Purchase'])\n",
    "    labels.append(uniqueCityCategoryValue)\n",
    "    values.append(CityCatPurchaserMean)\n",
    "    cityCatCount.append(CityCatPurchaserData.shape[0])\n",
    "    \n",
    "    print(\"When City_Category = \",uniqueCityCategoryValue,\" mean Purchase value = \",CityCatPurchaserMean)\n",
    "    print(\"------------------------------------------------------------------------------------------\")\n"
   ]
  },
  {
   "cell_type": "markdown",
   "metadata": {},
   "source": [
    "### Exploratory Data Analysis (Graphically) 📈"
   ]
  },
  {
   "cell_type": "code",
   "execution_count": 20,
   "metadata": {},
   "outputs": [
    {
     "data": {
      "image/png": "[encoded data removed]",
      "text/plain": [
       "<Figure size 432x288 with 1 Axes>"
      ]
     },
     "metadata": {
      "needs_background": "light"
     },
     "output_type": "display_data"
    }
   ],
   "source": [
    "plt.bar(labels,values, width=.9, facecolor='b', edgecolor='w', alpha=.5)\n",
    "plt.text(-0.7,10800,'Average purchase in black friday based on City_Category')\n",
    "         \n",
    "plt.show()"
   ]
  },
  {
   "cell_type": "markdown",
   "metadata": {},
   "source": [
    "**Answer :** Purchase value doesn't big vary from one category to another. But we can say that people who live in city of category C purchase more than other peoples who live cities of category  A or B.\n",
    "\n",
    "<hr>\n",
    "\n",
    "According to above ☝ info<br>\n",
    "**Question 5 :** can we consider that Purchasers who live in city of category C more than other Purchasers who live cities of category  A or B ?\n",
    "\n",
    "### Exploratory Data Analysis (Numerically) 💰"
   ]
  },
  {
   "cell_type": "code",
   "execution_count": 21,
   "metadata": {},
   "outputs": [
    {
     "name": "stdout",
     "output_type": "stream",
     "text": [
      "Purchasers count who live in city of category  A  =  147720\n",
      "------------------------------------------------------------------------------------------\n",
      "Purchasers count who live in city of category  B  =  231173\n",
      "------------------------------------------------------------------------------------------\n",
      "Purchasers count who live in city of category  C  =  171175\n",
      "------------------------------------------------------------------------------------------\n"
     ]
    }
   ],
   "source": [
    "for uniqueCityCategoryValue in data_train['City_Category'].sort_values().unique():\n",
    "    CityCatPurchaserData = data_train.loc[data_train['City_Category'] == uniqueCityCategoryValue]\n",
    "    print(\"Purchasers count who live in city of category \",uniqueCityCategoryValue,\" = \",CityCatPurchaserData.shape[0])\n",
    "    print(\"------------------------------------------------------------------------------------------\")"
   ]
  },
  {
   "cell_type": "markdown",
   "metadata": {},
   "source": [
    "### Exploratory Data Analysis (Graphically) 📈"
   ]
  },
  {
   "cell_type": "code",
   "execution_count": 22,
   "metadata": {},
   "outputs": [
    {
     "data": {
      "image/png": "[encoded data removed]",
      "text/plain": [
       "<Figure size 432x288 with 1 Axes>"
      ]
     },
     "metadata": {},
     "output_type": "display_data"
    }
   ],
   "source": [
    "values = cityCatCount\n",
    "labels = ['A', 'B', 'C']\n",
    "plt.axis('equal')\n",
    "\n",
    "plt.pie(values, labels=labels,\n",
    "              explode=[0.1,0.05,0.05],\n",
    "              autopct='%1.1f%%',\n",
    "              shadow=True,\n",
    "              startangle=0,\n",
    "              labeldistance=1.1,\n",
    "              pctdistance=.6)\n",
    "\n",
    "plt.legend(labels)\n",
    "plt.title('Average purchase in black friday based on City_Category')\n",
    "plt.show()"
   ]
  },
  {
   "cell_type": "markdown",
   "metadata": {},
   "source": [
    "**Answer :** No. Because Purchasers who live in city of category B has largest number of Purchasers than A and C.\n",
    "<hr>\n",
    "Now let's deal with Stay_In_Current_City_Years column 👇.\n",
    "## Stay_In_Current_City_Years 🌔\n",
    "Stay_In_Current_City_Years is a categorical column has unique values, **'0'**, **'1'**, **'2'**, and **'4+'**. It represent number of years a purchaser stay in a city.<br>Let's show it 😊."
   ]
  },
  {
   "cell_type": "code",
   "execution_count": 23,
   "metadata": {},
   "outputs": [
    {
     "data": {
      "text/plain": [
       "['0', '1', '2', '3', '4+']"
      ]
     },
     "execution_count": 23,
     "metadata": {},
     "output_type": "execute_result"
    }
   ],
   "source": [
    "list(data_train['Stay_In_Current_City_Years'].sort_values().unique())"
   ]
  },
  {
   "cell_type": "markdown",
   "metadata": {},
   "source": [
    "Now we will convert **'4+'** value to 4 to can convert **Stay_In_Current_City_Years** column from string to int. 👇"
   ]
  },
  {
   "cell_type": "code",
   "execution_count": 24,
   "metadata": {},
   "outputs": [
    {
     "name": "stdout",
     "output_type": "stream",
     "text": [
      "Stay_In_Current_City_Years converted to int successfully\n"
     ]
    }
   ],
   "source": [
    "data_train.loc[data_train['Stay_In_Current_City_Years'] == '4+','Stay_In_Current_City_Years'] = '4'\n",
    "data_train['Stay_In_Current_City_Years'] = pd.to_numeric(data_train['Stay_In_Current_City_Years'])\n",
    "print(\"Stay_In_Current_City_Years converted to int successfully\")"
   ]
  },
  {
   "cell_type": "markdown",
   "metadata": {},
   "source": [
    "**Question 6 :** Are people who stay more years buy less than people who stay less ? \n",
    "\n",
    "## Exploratory Data Analysis (Numerically) 💰"
   ]
  },
  {
   "cell_type": "code",
   "execution_count": 25,
   "metadata": {},
   "outputs": [
    {
     "name": "stdout",
     "output_type": "stream",
     "text": [
      "Mean purchase of people who stay  0  years =  9180.075122987177\n",
      "Mean purchase of people who stay  1  years =  9250.145923300364\n",
      "Mean purchase of people who stay  2  years =  9320.429810090536\n",
      "Mean purchase of people who stay  3  years =  9286.904119221284\n",
      "Mean purchase of people who stay more than  4  years =  9275.59887165687\n"
     ]
    }
   ],
   "source": [
    "labels = []\n",
    "values = []\n",
    "yearsCountData = []\n",
    "\n",
    "for uniqueYearsValue in data_train['Stay_In_Current_City_Years'].sort_values().unique():\n",
    "    CityYearsPurchaserData = data_train.loc[data_train['Stay_In_Current_City_Years'] == uniqueYearsValue]\n",
    "    CityYearsPurchaserMean = np.mean(CityYearsPurchaserData['Purchase'])\n",
    "    labels.append(uniqueYearsValue)\n",
    "    values.append(CityYearsPurchaserMean)\n",
    "    yearsCountData.append(CityYearsPurchaserData.shape[0])\n",
    "    \n",
    "    if uniqueYearsValue != 4:\n",
    "        print(\"Mean purchase of people who stay \",uniqueYearsValue,\" years = \",CityYearsPurchaserMean)\n",
    "    elif uniqueYearsValue == 4:\n",
    "        print(\"Mean purchase of people who stay more than \",uniqueYearsValue,\" years = \",CityYearsPurchaserMean)\n",
    "\n"
   ]
  },
  {
   "cell_type": "markdown",
   "metadata": {},
   "source": [
    "## Exploratory Data Analysis (Graphically) 📈"
   ]
  },
  {
   "cell_type": "code",
   "execution_count": 26,
   "metadata": {},
   "outputs": [
    {
     "data": {
      "image/png": "[encoded data removed]",
      "text/plain": [
       "<Figure size 432x288 with 1 Axes>"
      ]
     },
     "metadata": {
      "needs_background": "light"
     },
     "output_type": "display_data"
    }
   ],
   "source": [
    "plt.bar(labels,values, width=.9, facecolor='b', edgecolor='w', alpha=.5)\n",
    "plt.text(-0.7,10800,'Average purchase in black friday based on Stay In Current City Years')\n",
    "         \n",
    "plt.show()"
   ]
  },
  {
   "cell_type": "markdown",
   "metadata": {},
   "source": [
    "**Answer:** No. Because the mean purchases of people despite the varying years of stay very close\n",
    "<hr>\n",
    "**Question 7 :** Do people who stay longer in city have more action towards buying ?\n",
    "\n",
    "## Exploratory Data Analysis (Numerically) 💰"
   ]
  },
  {
   "cell_type": "code",
   "execution_count": 27,
   "metadata": {},
   "outputs": [
    {
     "name": "stdout",
     "output_type": "stream",
     "text": [
      "Number of purchasers who stay  0  years =  74398\n",
      "Number of purchasers who stay  1  years =  193821\n",
      "Number of purchasers who stay  2  years =  101838\n",
      "Number of purchasers who stay  3  years =  95285\n",
      "Number of purchasers who stay more than  4  years =  84726\n"
     ]
    }
   ],
   "source": [
    "for uniqueYearsValue in data_train['Stay_In_Current_City_Years'].sort_values().unique():\n",
    "    CityYearsPurchaserData = data_train.loc[data_train['Stay_In_Current_City_Years'] == uniqueYearsValue]\n",
    "    if uniqueYearsValue != 4:\n",
    "        print(\"Number of purchasers who stay \",uniqueYearsValue,\" years = \",CityYearsPurchaserData.shape[0])\n",
    "    elif uniqueYearsValue == 4:\n",
    "        print(\"Number of purchasers who stay more than \",uniqueYearsValue,\" years = \",CityYearsPurchaserData.shape[0])\n",
    "\n",
    "    "
   ]
  },
  {
   "cell_type": "markdown",
   "metadata": {},
   "source": [
    "## Exploratory Data Analysis (Graphically) 📈"
   ]
  },
  {
   "cell_type": "code",
   "execution_count": 28,
   "metadata": {},
   "outputs": [
    {
     "data": {
      "image/png": "[encoded data removed]",
      "text/plain": [
       "<Figure size 432x288 with 1 Axes>"
      ]
     },
     "metadata": {},
     "output_type": "display_data"
    }
   ],
   "source": [
    "values = yearsCountData\n",
    "labels = list(data_train['Stay_In_Current_City_Years'].sort_values().unique())\n",
    "plt.axis('equal')\n",
    "\n",
    "plt.pie(values, labels=labels,\n",
    "              explode=[0,0.1,0,0,0],\n",
    "              autopct='%1.1f%%',\n",
    "              shadow=True,\n",
    "              startangle=0,\n",
    "              labeldistance=1.1,\n",
    "              pctdistance=.6)\n",
    "\n",
    "plt.legend(labels)\n",
    "plt.title('Number of purchasers in black friday based on Stay_In_Current_City_Years')\n",
    "plt.show()"
   ]
  },
  {
   "cell_type": "markdown",
   "metadata": {},
   "source": [
    "**Answer :** No. Because people who stay longer in city have less action towards buying than others.\n",
    "**Decision :** We must take care of people who stay in range 1 year in city because they have more action towards buying than others.\n",
    "<hr>\n",
    "## Marital_Status 🚩\n",
    "Marital_Status is a numerical column has two value **0** and **1**. This column describe if purchaser married or not. Let's show it 😊"
   ]
  },
  {
   "cell_type": "code",
   "execution_count": 29,
   "metadata": {},
   "outputs": [
    {
     "data": {
      "text/plain": [
       "[0, 1]"
      ]
     },
     "execution_count": 29,
     "metadata": {},
     "output_type": "execute_result"
    }
   ],
   "source": [
    "list(data_train['Marital_Status'].unique())"
   ]
  },
  {
   "cell_type": "markdown",
   "metadata": {},
   "source": [
    "**Question 8 :** Are people who married buy more than else ?\n",
    "## Exploratory Data Analysis (Numerically) 💰"
   ]
  },
  {
   "cell_type": "code",
   "execution_count": 30,
   "metadata": {},
   "outputs": [
    {
     "name": "stdout",
     "output_type": "stream",
     "text": [
      "Mean purchase of people who marital Status is  0  =  9265.907618921507\n",
      "Mean purchase of people who marital Status is  1  =  9261.174574082374\n"
     ]
    }
   ],
   "source": [
    "labels = []\n",
    "values = []\n",
    "maritalStatusCount = []\n",
    "\n",
    "for maritalStatusValue in data_train['Marital_Status'].unique():\n",
    "    maritalStatusPurchaserData = data_train.loc[data_train['Marital_Status'] == maritalStatusValue]\n",
    "    maritalStatusPurchaserMean = np.mean(maritalStatusPurchaserData['Purchase'])\n",
    "    labels.append(maritalStatusValue)\n",
    "    values.append(maritalStatusPurchaserMean)\n",
    "    maritalStatusCount.append(maritalStatusPurchaserData.shape[0])\n",
    "    \n",
    "    print(\"Mean purchase of people who marital Status is \",maritalStatusValue,\" = \",maritalStatusPurchaserMean)"
   ]
  },
  {
   "cell_type": "markdown",
   "metadata": {},
   "source": [
    "## Exploratory Data Analysis (Graphically) 📈"
   ]
  },
  {
   "cell_type": "code",
   "execution_count": 31,
   "metadata": {},
   "outputs": [
    {
     "data": {
      "image/png": "[encoded data removed]",
      "text/plain": [
       "<Figure size 432x288 with 1 Axes>"
      ]
     },
     "metadata": {
      "needs_background": "light"
     },
     "output_type": "display_data"
    }
   ],
   "source": [
    "plt.bar(labels,values, width=.9, facecolor='b', edgecolor='w', alpha=.5)\n",
    "plt.text(-0.7,10800,'Average purchase in black friday based on Marital_Status')\n",
    "         \n",
    "plt.show()"
   ]
  },
  {
   "cell_type": "markdown",
   "metadata": {},
   "source": [
    "**Answer :** No. Because purchasers who married or not, have almost same average of purchase.\n",
    "<hr>\n",
    "**Question 8 :** Do people who married have more action towards buying ?\n",
    "\n",
    "## Exploratory Data Analysis (Numerically) 💰"
   ]
  },
  {
   "cell_type": "code",
   "execution_count": 32,
   "metadata": {},
   "outputs": [
    {
     "name": "stdout",
     "output_type": "stream",
     "text": [
      "Number of purchasers who marital status is  0  =  324731\n",
      "Number of purchasers who marital status is  1  =  225337\n"
     ]
    }
   ],
   "source": [
    "for maritalStatusValue in data_train['Marital_Status'].unique():\n",
    "    maritalStatusPurchaserData = data_train.loc[data_train['Marital_Status'] == maritalStatusValue]\n",
    "    print(\"Number of purchasers who marital status is \",maritalStatusValue,\" = \",maritalStatusPurchaserData.shape[0])"
   ]
  },
  {
   "cell_type": "markdown",
   "metadata": {},
   "source": [
    "## Exploratory Data Analysis (Graphically) 📈"
   ]
  },
  {
   "cell_type": "code",
   "execution_count": 33,
   "metadata": {},
   "outputs": [
    {
     "data": {
      "image/png": "[encoded data removed]",
      "text/plain": [
       "<Figure size 432x288 with 1 Axes>"
      ]
     },
     "metadata": {},
     "output_type": "display_data"
    }
   ],
   "source": [
    "values = maritalStatusCount\n",
    "labels = list(data_train['Marital_Status'].unique())\n",
    "plt.axis('equal')\n",
    "\n",
    "plt.pie(values, labels=labels,\n",
    "              explode=[0,0.1],\n",
    "              autopct='%1.1f%%',\n",
    "              shadow=True,\n",
    "              startangle=0,\n",
    "              labeldistance=1.1,\n",
    "              pctdistance=.6)\n",
    "\n",
    "plt.legend(labels)\n",
    "plt.title('Number of purchasers in black friday based on Marital_Status')\n",
    "plt.show()"
   ]
  },
  {
   "cell_type": "markdown",
   "metadata": {},
   "source": [
    "**Answer :** Yes. Because 59% of purchasers are married.<br>\n",
    "**Decision :** We must take care of married than singles in the next marketing campaigns. where the ratio is 59 to 41 percent respectively.\n",
    "<hr>\n",
    "**Question 9 :** Are Profit from product of category 1 more or from product of category 2 ?  \n",
    "## Exploratory Data Analysis (Numerically) 💰\n"
   ]
  },
  {
   "cell_type": "code",
   "execution_count": 34,
   "metadata": {},
   "outputs": [
    {
     "name": "stdout",
     "output_type": "stream",
     "text": [
      "Profit from product of category 1 =  2972716\n",
      "Profit from product of category 2 =  5441328.0\n"
     ]
    }
   ],
   "source": [
    "Product_Category_1_sum = data_train['Product_Category_1'].sum()\n",
    "Product_Category_2_sum = data_train['Product_Category_2'].sum()\n",
    "\n",
    "print(\"Profit from product of category 1 = \",Product_Category_1_sum)\n",
    "print(\"Profit from product of category 2 = \",Product_Category_2_sum)"
   ]
  },
  {
   "cell_type": "markdown",
   "metadata": {},
   "source": [
    "## Exploratory Data Analysis (Graphically) 📈"
   ]
  },
  {
   "cell_type": "code",
   "execution_count": 35,
   "metadata": {},
   "outputs": [
    {
     "data": {
      "image/png": "[encoded data removed]",
      "text/plain": [
       "<Figure size 432x288 with 1 Axes>"
      ]
     },
     "metadata": {
      "needs_background": "light"
     },
     "output_type": "display_data"
    }
   ],
   "source": [
    "labels = ['Product_Category_1','Product_Category_2',]\n",
    "values = [Product_Category_1_sum,Product_Category_2_sum]\n",
    "\n",
    "plt.bar(labels,values, width=.9, facecolor='b', edgecolor='w', alpha=.5)\n",
    "plt.text(-0.7,6000000,'Compar between number of boughts of category_1 and category_2 in black friday')\n",
    "         \n",
    "plt.show()"
   ]
  },
  {
   "cell_type": "markdown",
   "metadata": {},
   "source": [
    "**Answer :** Profit from product of category 2 more than product of category 1.<br>\n",
    "**Decision :** We must take care of product of category 2 in the next marketing campaigns\n",
    "<hr>\n"
   ]
  },
  {
   "cell_type": "code",
   "execution_count": null,
   "metadata": {},
   "outputs": [],
   "source": []
  }
 ],
 "metadata": {
  "kernelspec": {
   "display_name": "Python 3",
   "language": "python",
   "name": "python3"
  },
  "language_info": {
   "codemirror_mode": {
    "name": "ipython",
    "version": 3
   },
   "file_extension": ".py",
   "mimetype": "text/x-python",
   "name": "python",
   "nbconvert_exporter": "python",
   "pygments_lexer": "ipython3",
   "version": "3.7.10"
  }
 },
 "nbformat": 4,
 "nbformat_minor": 1
}
